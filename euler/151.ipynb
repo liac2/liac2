{
 "cells": [
  {
   "cell_type": "code",
   "execution_count": 2,
   "metadata": {},
   "outputs": [],
   "source": [
    "import random as r\n",
    "import statistics as s\n",
    "import pandas as pd\n",
    "import matplotlib.pyplot as plt"
   ]
  },
  {
   "cell_type": "code",
   "execution_count": 4,
   "metadata": {},
   "outputs": [
    {
     "name": "stdout",
     "output_type": "stream",
     "text": [
      "1000000 0.463656\n",
      "2000000 0.463651\n",
      "3000000 0.46417\n",
      "4000000 0.4643655\n",
      "5000000 0.4642548\n",
      "6000000 0.46434733333333333\n",
      "7000000 0.4644858571428571\n",
      "8000000 0.464506\n",
      "9000000 0.4644917777777778\n",
      "10000000 0.4644915\n",
      "0.464491 10000001\n"
     ]
    }
   ],
   "source": [
    "class Paper():\n",
    "    def __init__(self):\n",
    "        self.papers = []\n",
    "        self.result = 16\n",
    "        self.sums = 0\n",
    "        self.round = 0\n",
    "        self.last_counts = []\n",
    "        self.last_results = []\n",
    "        \n",
    "        # Stats\n",
    "        self.all_results = []\n",
    "        self.all_sums = []\n",
    "        self.all_difs = []\n",
    "\n",
    "    def cut(self, num):\n",
    "        self.papers.remove(num)\n",
    "        while num > 1:\n",
    "            num /= 2\n",
    "            self.papers.append(num)\n",
    "            self.papers.append(num)\n",
    "\n",
    "    def simulate_week(self):\n",
    "        papers = [16]\n",
    "        count = 0\n",
    "        for i in range(16):\n",
    "            chosen = r.choice(papers)\n",
    "            if i > 0 and i < 15 and len(papers) == 1:\n",
    "                count += 1\n",
    "            while chosen > 1:\n",
    "                papers.remove(chosen)\n",
    "                chosen /= 2\n",
    "                papers.append(chosen)\n",
    "                papers.append(chosen)\n",
    "            papers.remove(chosen)\n",
    "        return count\n",
    "\n",
    "    def sample(self):\n",
    "        dif = float('inf')\n",
    "        avg = 10**7\n",
    "        # while dif > 1 or dif == 0:\n",
    "        # while s.mean(self.last_results) > 1:\n",
    "        while self.round <= 1000_000:\n",
    "            self.round += 1\n",
    "            count = self.simulate_week()\n",
    "            self.sums += count\n",
    "            self.result = self.sums / self.round\n",
    "            self.last_counts.append(count)\n",
    "            window = 100\n",
    "            if self.round >= window:\n",
    "                avg = sum(self.last_counts) / window\n",
    "                self.last_counts.pop(0)\n",
    "            dif = abs(avg - self.result)\n",
    "            dif = dif * 10**0\n",
    "\n",
    "            # Collect results\n",
    "            self.last_results.append(dif)\n",
    "            # if len(self.last_results) > 1000:\n",
    "            #     self.last_results.pop(0)\n",
    "                \n",
    "\n",
    "            # check_interval = 2_000_000\n",
    "            # if self.round % check_interval == 0:\n",
    "            #     # print(self.round, round(self.result, 6), dif, s.mean(self.last_results))\n",
    "            #     print(self.round, self.result)\n",
    "        self.result = round(self.result, 6)\n",
    "        return dif\n",
    "\n",
    "    def stats(self):\n",
    "        dif = float('inf')\n",
    "        avg = 10**7\n",
    "        while self.round <= 10_000_000:\n",
    "            self.round += 1\n",
    "            count = self.simulate_week()\n",
    "            self.sums += count\n",
    "            self.result = self.sums / self.round\n",
    "            self.last_counts.append(count)\n",
    "            window = 100\n",
    "            if self.round >= window:\n",
    "                avg = sum(self.last_counts) / window\n",
    "                self.last_counts.pop(0)\n",
    "            dif = abs(avg - self.result)\n",
    "            dif = dif * 10**0\n",
    "\n",
    "            self.all_sums.append(self.sums)\n",
    "            self.all_results.append(self.result)\n",
    "            self.all_difs.append(dif)\n",
    "            \n",
    "            check_interval = 1_000_000\n",
    "            if self.round % check_interval == 0:\n",
    "                print(self.round, self.result)\n",
    "                \n",
    "        self.result = round(self.result, 6)\n",
    "\n",
    "p = Paper()\n",
    "p.stats()\n",
    "print(p.result, p.round)"
   ]
  },
  {
   "cell_type": "code",
   "execution_count": 6,
   "metadata": {},
   "outputs": [
    {
     "name": "stdout",
     "output_type": "stream",
     "text": [
      "0.464446\n"
     ]
    }
   ],
   "source": [
    "df = pd.DataFrame({\"difs\": p.all_difs, \"results\": p.all_results, \"sums\": p.all_sums})\n",
    "df = df[5*10**6:]\n",
    "# df[\"inv_res\"] = df[\"results\"].apply(lambda x: 1 / x)\n",
    "\n",
    "# fig, axs = plt.subplots(2, 1, figsize=(10, 6))  # 2 Zeilen, 1 Spalte\n",
    "\n",
    "# df[\"inv_res\"].plot(ax=axs[0], title=\"inv results\", color='blue')\n",
    "# df[\"results\"].plot(ax=axs[1], title=\"results\", color='green')\n",
    "\n",
    "# plt.tight_layout()\n",
    "# plt.show()\n",
    "print(round(df[\"results\"].mean(), 6))"
   ]
  },
  {
   "cell_type": "code",
   "execution_count": null,
   "metadata": {},
   "outputs": [],
   "source": []
  }
 ],
 "metadata": {
  "kernelspec": {
   "display_name": ".venv",
   "language": "python",
   "name": "python3"
  },
  "language_info": {
   "codemirror_mode": {
    "name": "ipython",
    "version": 3
   },
   "file_extension": ".py",
   "mimetype": "text/x-python",
   "name": "python",
   "nbconvert_exporter": "python",
   "pygments_lexer": "ipython3",
   "version": "3.12.3"
  }
 },
 "nbformat": 4,
 "nbformat_minor": 2
}
