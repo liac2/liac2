{
 "cells": [
  {
   "cell_type": "code",
   "execution_count": 4,
   "metadata": {},
   "outputs": [
    {
     "data": {
      "text/plain": [
       "[8.0, 8.0]"
      ]
     },
     "execution_count": 4,
     "metadata": {},
     "output_type": "execute_result"
    }
   ],
   "source": [
    "class Paper():\n",
    "    def __init__(self, size):\n",
    "        self.papers = [size]\n",
    "        self.result = 0\n",
    "\n",
    "    def cut(self, num):\n",
    "        if num % 2 != 0:\n",
    "            self.papers.remove(num)\n",
    "            return \n",
    "        \n",
    "        self.papers.remove(num)\n",
    "        self.papers.append(num / 2)\n",
    "        self.papers.append(num / 2)\n",
    "\n",
    "    def sample():\n",
    "        pass\n",
    "\n",
    "p = Paper(16)\n",
    "p.cut(16)\n",
    "p.papers\n",
    "\n"
   ]
  },
  {
   "cell_type": "code",
   "execution_count": null,
   "metadata": {},
   "outputs": [],
   "source": []
  }
 ],
 "metadata": {
  "kernelspec": {
   "display_name": "Python 3",
   "language": "python",
   "name": "python3"
  },
  "language_info": {
   "codemirror_mode": {
    "name": "ipython",
    "version": 3
   },
   "file_extension": ".py",
   "mimetype": "text/x-python",
   "name": "python",
   "nbconvert_exporter": "python",
   "pygments_lexer": "ipython3",
   "version": "3.12.1"
  }
 },
 "nbformat": 4,
 "nbformat_minor": 2
}
