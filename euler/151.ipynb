{
 "cells": [
  {
   "cell_type": "code",
   "execution_count": 16,
   "metadata": {},
   "outputs": [],
   "source": [
    "import random as r\n",
    "class Paper():\n",
    "    def __init__(self):\n",
    "        self.papers = []\n",
    "        self.result = 16\n",
    "        self.counts = []\n",
    "\n",
    "    def cut(self, num):\n",
    "        if num % 2 != 0:\n",
    "            self.papers.remove(num)\n",
    "            return \n",
    "        \n",
    "        self.papers.remove(num)\n",
    "        self.papers.append(num / 2)\n",
    "        self.papers.append(num / 2)\n",
    "        self.cut(num / 2)\n",
    "\n",
    "    def sample(self):\n",
    "        round = 0\n",
    "        while self.result > 10**-8:\n",
    "            round += 1\n",
    "            count = 0\n",
    "            self.papers = [16]\n",
    "            for i in range(16):\n",
    "                paper = r.choice(self.papers)\n",
    "                if i > 0 and i < 15 and paper == 1:\n",
    "                    count += 1\n",
    "                self.cut(paper)\n",
    "            self.counts.append(count)\n",
    "            self.result = sum(self.counts) / len(self.counts)\n",
    "            if round % 1000 in range(100):\n",
    "                print(round, self.result)\n",
    "        self.result = round(self.result, 6)\n",
    "\n",
    "\n",
    "p = Paper()\n",
    "p.sample()\n",
    "print(p.papers, p.result)\n"
   ]
  },
  {
   "cell_type": "code",
   "execution_count": null,
   "metadata": {},
   "outputs": [],
   "source": []
  }
 ],
 "metadata": {
  "kernelspec": {
   "display_name": "Python 3",
   "language": "python",
   "name": "python3"
  },
  "language_info": {
   "codemirror_mode": {
    "name": "ipython",
    "version": 3
   },
   "file_extension": ".py",
   "mimetype": "text/x-python",
   "name": "python",
   "nbconvert_exporter": "python",
   "pygments_lexer": "ipython3",
   "version": "3.12.1"
  }
 },
 "nbformat": 4,
 "nbformat_minor": 2
}
