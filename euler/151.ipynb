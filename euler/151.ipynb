{
 "cells": [
  {
   "cell_type": "code",
   "execution_count": 18,
   "metadata": {},
   "outputs": [
    {
     "name": "stdout",
     "output_type": "stream",
     "text": [
      "1000000 0.463807 36192.99999999998\n",
      "2000000 0.463389 36611.00000000001\n",
      "3000000 0.463847 36152.666666666664\n",
      "4000000 0.463962 163961.50000000003\n"
     ]
    },
    {
     "ename": "KeyboardInterrupt",
     "evalue": "",
     "output_type": "error",
     "traceback": [
      "\u001b[31m---------------------------------------------------------------------------\u001b[39m",
      "\u001b[31mKeyboardInterrupt\u001b[39m                         Traceback (most recent call last)",
      "\u001b[36mCell\u001b[39m\u001b[36m \u001b[39m\u001b[32mIn[18]\u001b[39m\u001b[32m, line 48\u001b[39m\n\u001b[32m     44\u001b[39m         \u001b[38;5;28mself\u001b[39m.result = \u001b[38;5;28mround\u001b[39m(\u001b[38;5;28mself\u001b[39m.result, \u001b[32m6\u001b[39m)\n\u001b[32m     47\u001b[39m p = Paper()\n\u001b[32m---> \u001b[39m\u001b[32m48\u001b[39m \u001b[43mp\u001b[49m\u001b[43m.\u001b[49m\u001b[43msample\u001b[49m\u001b[43m(\u001b[49m\u001b[43m)\u001b[49m\n\u001b[32m     49\u001b[39m \u001b[38;5;28mprint\u001b[39m(p.result, p.round)\n",
      "\u001b[36mCell\u001b[39m\u001b[36m \u001b[39m\u001b[32mIn[18]\u001b[39m\u001b[32m, line 28\u001b[39m, in \u001b[36mPaper.sample\u001b[39m\u001b[34m(self)\u001b[39m\n\u001b[32m     26\u001b[39m \u001b[38;5;28mself\u001b[39m.papers = [\u001b[32m16\u001b[39m]\n\u001b[32m     27\u001b[39m \u001b[38;5;28;01mfor\u001b[39;00m i \u001b[38;5;129;01min\u001b[39;00m \u001b[38;5;28mrange\u001b[39m(\u001b[32m16\u001b[39m):\n\u001b[32m---> \u001b[39m\u001b[32m28\u001b[39m     paper = \u001b[43mr\u001b[49m\u001b[43m.\u001b[49m\u001b[43mchoice\u001b[49m\u001b[43m(\u001b[49m\u001b[38;5;28;43mself\u001b[39;49m\u001b[43m.\u001b[49m\u001b[43mpapers\u001b[49m\u001b[43m)\u001b[49m\n\u001b[32m     29\u001b[39m     \u001b[38;5;28;01mif\u001b[39;00m i > \u001b[32m0\u001b[39m \u001b[38;5;129;01mand\u001b[39;00m i < \u001b[32m15\u001b[39m \u001b[38;5;129;01mand\u001b[39;00m \u001b[38;5;28mlen\u001b[39m(\u001b[38;5;28mself\u001b[39m.papers) == \u001b[32m1\u001b[39m:\n\u001b[32m     30\u001b[39m         count += \u001b[32m1\u001b[39m\n",
      "\u001b[36mFile \u001b[39m\u001b[32m/usr/local/python/3.12.1/lib/python3.12/random.py:348\u001b[39m, in \u001b[36mRandom.choice\u001b[39m\u001b[34m(self, seq)\u001b[39m\n\u001b[32m    346\u001b[39m \u001b[38;5;28;01mif\u001b[39;00m \u001b[38;5;129;01mnot\u001b[39;00m \u001b[38;5;28mlen\u001b[39m(seq):\n\u001b[32m    347\u001b[39m     \u001b[38;5;28;01mraise\u001b[39;00m \u001b[38;5;167;01mIndexError\u001b[39;00m(\u001b[33m'\u001b[39m\u001b[33mCannot choose from an empty sequence\u001b[39m\u001b[33m'\u001b[39m)\n\u001b[32m--> \u001b[39m\u001b[32m348\u001b[39m \u001b[38;5;28;01mreturn\u001b[39;00m seq[\u001b[38;5;28;43mself\u001b[39;49m\u001b[43m.\u001b[49m\u001b[43m_randbelow\u001b[49m\u001b[43m(\u001b[49m\u001b[38;5;28;43mlen\u001b[39;49m\u001b[43m(\u001b[49m\u001b[43mseq\u001b[49m\u001b[43m)\u001b[49m\u001b[43m)\u001b[49m]\n",
      "\u001b[36mFile \u001b[39m\u001b[32m/usr/local/python/3.12.1/lib/python3.12/random.py:242\u001b[39m, in \u001b[36mRandom._randbelow_with_getrandbits\u001b[39m\u001b[34m(self, n)\u001b[39m\n\u001b[32m    239\u001b[39m             \u001b[38;5;28mcls\u001b[39m._randbelow = \u001b[38;5;28mcls\u001b[39m._randbelow_without_getrandbits\n\u001b[32m    240\u001b[39m             \u001b[38;5;28;01mbreak\u001b[39;00m\n\u001b[32m--> \u001b[39m\u001b[32m242\u001b[39m \u001b[38;5;28;01mdef\u001b[39;00m\u001b[38;5;250m \u001b[39m\u001b[34m_randbelow_with_getrandbits\u001b[39m(\u001b[38;5;28mself\u001b[39m, n):\n\u001b[32m    243\u001b[39m     \u001b[33m\"\u001b[39m\u001b[33mReturn a random int in the range [0,n).  Defined for n > 0.\u001b[39m\u001b[33m\"\u001b[39m\n\u001b[32m    245\u001b[39m     getrandbits = \u001b[38;5;28mself\u001b[39m.getrandbits\n",
      "\u001b[31mKeyboardInterrupt\u001b[39m: "
     ]
    }
   ],
   "source": [
    "import random as r\n",
    "class Paper():\n",
    "    def __init__(self):\n",
    "        self.papers = []\n",
    "        self.result = 16\n",
    "        self.sums = 0\n",
    "        self.round = 0\n",
    "        self.last_counts = []\n",
    "\n",
    "    def cut(self, num):\n",
    "        if num % 2 != 0:\n",
    "            self.papers.remove(num)\n",
    "            return \n",
    "        \n",
    "        self.papers.remove(num)\n",
    "        self.papers.append(num / 2)\n",
    "        self.papers.append(num / 2)\n",
    "        self.cut(num / 2)\n",
    "\n",
    "    def sample(self):\n",
    "        dif = float('inf')\n",
    "        avg = 10**7\n",
    "        while dif > 1 or dif == 0:\n",
    "            self.round += 1\n",
    "            count = 0\n",
    "            self.papers = [16]\n",
    "            for i in range(16):\n",
    "                paper = r.choice(self.papers)\n",
    "                if i > 0 and i < 15 and len(self.papers) == 1:\n",
    "                    count += 1\n",
    "                self.cut(paper)\n",
    "            self.sums += count\n",
    "            self.result = self.sums / self.round\n",
    "            self.last_counts.append(count)\n",
    "            window = 10\n",
    "            if self.round >= window:\n",
    "                avg = sum(self.last_counts) / window\n",
    "                self.last_counts.pop(0)\n",
    "            dif = abs(self.result - avg)\n",
    "            dif = dif * 10**6 \n",
    "\n",
    "            if self.round % 10**6 == 0:\n",
    "                print(self.round / 10**6, round(self.result, 6), dif)\n",
    "        self.result = round(self.result, 6)\n",
    "\n",
    "\n",
    "p = Paper()\n",
    "p.sample()\n",
    "print(p.result, p.round)\n"
   ]
  },
  {
   "cell_type": "code",
   "execution_count": null,
   "metadata": {},
   "outputs": [],
   "source": []
  }
 ],
 "metadata": {
  "kernelspec": {
   "display_name": "Python 3",
   "language": "python",
   "name": "python3"
  },
  "language_info": {
   "codemirror_mode": {
    "name": "ipython",
    "version": 3
   },
   "file_extension": ".py",
   "mimetype": "text/x-python",
   "name": "python",
   "nbconvert_exporter": "python",
   "pygments_lexer": "ipython3",
   "version": "3.12.1"
  }
 },
 "nbformat": 4,
 "nbformat_minor": 2
}
