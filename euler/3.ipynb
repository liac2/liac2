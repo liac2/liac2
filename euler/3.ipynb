{
 "cells": [
  {
   "cell_type": "code",
   "execution_count": 31,
   "metadata": {},
   "outputs": [
    {
     "name": "stdout",
     "output_type": "stream",
     "text": [
      "71\n",
      "839\n",
      "1471\n",
      "6857\n",
      "biggest: 6857\n"
     ]
    }
   ],
   "source": [
    "import math\n",
    "\n",
    "class Problem:\n",
    "    def __init__(self, num):\n",
    "        self.number = num\n",
    "        self.dividers = []\n",
    "        self.prime_factor = None\n",
    "\n",
    "    def is_prime(s, num):\n",
    "        \"\"\"Checks if num is prime\"\"\"\n",
    "        for i in range(2, int(math.sqrt(num)) + 1):\n",
    "            if num % i == 0:\n",
    "                return False\n",
    "        else:\n",
    "            return True\n",
    "        \n",
    "\n",
    "    def generate_next_prime(s):\n",
    "        \"\"\"Creates a new divider\"\"\"\n",
    "        num = s.dividers[-1] + 1 if len(s.dividers) != 0 else 2\n",
    "        while not s.is_prime(num):\n",
    "            num += 1\n",
    "        s.dividers.append(num)\n",
    "\n",
    "    def create_prime_factor(s):\n",
    "        while s.number != 1:\n",
    "            for n in s.dividers:\n",
    "                if s.number % n == 0:\n",
    "                    s.number /= n\n",
    "                    s.prime_factor = n\n",
    "                    print(s.prime_factor)\n",
    "                    break\n",
    "            else:\n",
    "                s.generate_next_prime()\n",
    "\n",
    "        return s.prime_factor\n",
    "    \n",
    "if __name__ == \"__main__\":\n",
    "    p = Problem(600851475143)\n",
    "    num = p.create_prime_factor()\n",
    "    print(\"biggest:\", num)\n",
    "    "
   ]
  }
 ],
 "metadata": {
  "kernelspec": {
   "display_name": "Python 3",
   "language": "python",
   "name": "python3"
  },
  "language_info": {
   "codemirror_mode": {
    "name": "ipython",
    "version": 3
   },
   "file_extension": ".py",
   "mimetype": "text/x-python",
   "name": "python",
   "nbconvert_exporter": "python",
   "pygments_lexer": "ipython3",
   "version": "3.12.1"
  }
 },
 "nbformat": 4,
 "nbformat_minor": 2
}
